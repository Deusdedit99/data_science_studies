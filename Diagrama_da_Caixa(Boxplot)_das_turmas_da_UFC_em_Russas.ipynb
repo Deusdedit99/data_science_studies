{
  "nbformat": 4,
  "nbformat_minor": 0,
  "metadata": {
    "colab": {
      "name": "Diagrama da Caixa(Boxplot) das turmas da UFC em Russas",
      "provenance": [],
      "collapsed_sections": []
    },
    "kernelspec": {
      "name": "python3",
      "display_name": "Python 3"
    },
    "language_info": {
      "name": "python"
    }
  },
  "cells": [
    {
      "cell_type": "markdown",
      "source": [
        "# Probabilidade e Estatística : Medidas de Dispersão\n",
        "\n",
        "\n",
        "*   Parte prática usando o pacote plotly do python para vizualização dos boxplots das turmas do campus em 2021.2\n",
        "*   Script desenvolvido  pelo monitor Deusdedit Teixeira\n",
        "\n",
        "\n",
        "\n"
      ],
      "metadata": {
        "id": "W-SoTw-RWpnZ"
      }
    },
    {
      "cell_type": "markdown",
      "source": [
        "### Importando as bibliotecas para tratamento e vizualização dos dados\n"
      ],
      "metadata": {
        "id": "wRLllGrQWbZX"
      }
    },
    {
      "cell_type": "code",
      "execution_count": 1,
      "metadata": {
        "id": "y-bEvOU1WHRV"
      },
      "outputs": [],
      "source": [
        "import pandas as pd\n",
        "import plotly.express as px "
      ]
    },
    {
      "cell_type": "markdown",
      "source": [
        "###  Criando um Dataframe com as notas das turmas na disciplina de Probabilidade e Estatística\n"
      ],
      "metadata": {
        "id": "rzNjkjbpXywn"
      }
    },
    {
      "cell_type": "code",
      "source": [
        "Notas = pd.DataFrame(\n",
        "    {\n",
        "        \"Eng.Civil\": [6.0,7.8,8.9,8.0,2.6,7.5,8.5,10.0,3.4,0.4,9.6,5.3,9.4,9.4,4.9,0.0,8.7,9.7,0.0,8.5,8.0,8.6,9.4,0.0,9.6,\n",
        "                      3.2,0.0,0.0,0.0,10.0,2.2,9.3,0.0,0.0,8.0,8.1,7.0,0.0,9.1,0.0,9.9,7.5,3.1,1.0,0.0,6.0,4.9,9.4,9.1,7.7,0.0],\n",
        "        \"Eng.Mecanica\": [9.4,4.5,7.9,1.6,7.1,0.8,6.8,7.6,3.4,3.5,2.2,0.7,1.1,2.0,1.9,2.1,0.6,6.9,0.9,1.1,1.2,8.8,2.3,3.2,7.7,2.9,7.7,8.2,\n",
        "                         2.1,0.4,3.8,7.4,8.8,1.8,7.2,7.7,7.1,9.3,2.0,9.6,0.8,9.5,2.2,5.7,8.2,2.1,6.5,0.0,6.7,5.9,7.8],\n",
        "        \"Eng.Producao\": [7.6,8.0,8.3,1.6,8.3,4.6,7.3,1.2,6.4,7.9,8.8,8.4,2.4,4.2,0.0,8.6,5.0,7.2,5.6,8.3,1.6,9.2,1.8,2.1,\n",
        "                        6.5,2.8,1.3,5.6,3.9,6.8,7.7,3.6,0.0,1.1,7.3,6.0,2.7,0.6,7.8,3.1,0.0,1.9,7.8,0.0,9.3,8.7,1.6,7.2,5.7,7.2,7.0],\n",
        "        \"C.Comp\": [1.9,6.0,0.3,0.1,7.1,2.8,8.9,7.2,2.4,7.4,0.0,9.6,1.7,2.0,7.0,1.2,8.7,0.0,9.6,8.6,9.2,2.4,8.0,8.5,0.0,9.6,0.0,0.0,3.4,0.0,\n",
        "                   9.4,1.3,0.,3.9,0.0,3.4,1.7,0.0,8.9,8.2,2.3,9.4,8.1,0.2,8.6,9.0,2.0,1.2,7.9,5.5,3.0]\n",
        "    }\n",
        ")\n"
      ],
      "metadata": {
        "id": "iE1t6Ay6XeaQ"
      },
      "execution_count": 2,
      "outputs": []
    },
    {
      "cell_type": "markdown",
      "source": [
        "### Manipulações com o DataFrame\n"
      ],
      "metadata": {
        "id": "q7QA16yGmN_i"
      }
    },
    {
      "cell_type": "code",
      "source": [
        "Notas.head()"
      ],
      "metadata": {
        "colab": {
          "base_uri": "https://localhost:8080/",
          "height": 206
        },
        "id": "OkvNU9_ZXeXv",
        "outputId": "63d50c44-727b-4bc8-947c-5e0204a58f4d"
      },
      "execution_count": 3,
      "outputs": [
        {
          "output_type": "execute_result",
          "data": {
            "text/plain": [
              "   Eng.Civil  Eng.Mecanica  Eng.Producao  C.Comp\n",
              "0        6.0           9.4           7.6     1.9\n",
              "1        7.8           4.5           8.0     6.0\n",
              "2        8.9           7.9           8.3     0.3\n",
              "3        8.0           1.6           1.6     0.1\n",
              "4        2.6           7.1           8.3     7.1"
            ],
            "text/html": [
              "\n",
              "  <div id=\"df-1d27da80-47c2-491e-8d3b-3b618158e30e\">\n",
              "    <div class=\"colab-df-container\">\n",
              "      <div>\n",
              "<style scoped>\n",
              "    .dataframe tbody tr th:only-of-type {\n",
              "        vertical-align: middle;\n",
              "    }\n",
              "\n",
              "    .dataframe tbody tr th {\n",
              "        vertical-align: top;\n",
              "    }\n",
              "\n",
              "    .dataframe thead th {\n",
              "        text-align: right;\n",
              "    }\n",
              "</style>\n",
              "<table border=\"1\" class=\"dataframe\">\n",
              "  <thead>\n",
              "    <tr style=\"text-align: right;\">\n",
              "      <th></th>\n",
              "      <th>Eng.Civil</th>\n",
              "      <th>Eng.Mecanica</th>\n",
              "      <th>Eng.Producao</th>\n",
              "      <th>C.Comp</th>\n",
              "    </tr>\n",
              "  </thead>\n",
              "  <tbody>\n",
              "    <tr>\n",
              "      <th>0</th>\n",
              "      <td>6.0</td>\n",
              "      <td>9.4</td>\n",
              "      <td>7.6</td>\n",
              "      <td>1.9</td>\n",
              "    </tr>\n",
              "    <tr>\n",
              "      <th>1</th>\n",
              "      <td>7.8</td>\n",
              "      <td>4.5</td>\n",
              "      <td>8.0</td>\n",
              "      <td>6.0</td>\n",
              "    </tr>\n",
              "    <tr>\n",
              "      <th>2</th>\n",
              "      <td>8.9</td>\n",
              "      <td>7.9</td>\n",
              "      <td>8.3</td>\n",
              "      <td>0.3</td>\n",
              "    </tr>\n",
              "    <tr>\n",
              "      <th>3</th>\n",
              "      <td>8.0</td>\n",
              "      <td>1.6</td>\n",
              "      <td>1.6</td>\n",
              "      <td>0.1</td>\n",
              "    </tr>\n",
              "    <tr>\n",
              "      <th>4</th>\n",
              "      <td>2.6</td>\n",
              "      <td>7.1</td>\n",
              "      <td>8.3</td>\n",
              "      <td>7.1</td>\n",
              "    </tr>\n",
              "  </tbody>\n",
              "</table>\n",
              "</div>\n",
              "      <button class=\"colab-df-convert\" onclick=\"convertToInteractive('df-1d27da80-47c2-491e-8d3b-3b618158e30e')\"\n",
              "              title=\"Convert this dataframe to an interactive table.\"\n",
              "              style=\"display:none;\">\n",
              "        \n",
              "  <svg xmlns=\"http://www.w3.org/2000/svg\" height=\"24px\"viewBox=\"0 0 24 24\"\n",
              "       width=\"24px\">\n",
              "    <path d=\"M0 0h24v24H0V0z\" fill=\"none\"/>\n",
              "    <path d=\"M18.56 5.44l.94 2.06.94-2.06 2.06-.94-2.06-.94-.94-2.06-.94 2.06-2.06.94zm-11 1L8.5 8.5l.94-2.06 2.06-.94-2.06-.94L8.5 2.5l-.94 2.06-2.06.94zm10 10l.94 2.06.94-2.06 2.06-.94-2.06-.94-.94-2.06-.94 2.06-2.06.94z\"/><path d=\"M17.41 7.96l-1.37-1.37c-.4-.4-.92-.59-1.43-.59-.52 0-1.04.2-1.43.59L10.3 9.45l-7.72 7.72c-.78.78-.78 2.05 0 2.83L4 21.41c.39.39.9.59 1.41.59.51 0 1.02-.2 1.41-.59l7.78-7.78 2.81-2.81c.8-.78.8-2.07 0-2.86zM5.41 20L4 18.59l7.72-7.72 1.47 1.35L5.41 20z\"/>\n",
              "  </svg>\n",
              "      </button>\n",
              "      \n",
              "  <style>\n",
              "    .colab-df-container {\n",
              "      display:flex;\n",
              "      flex-wrap:wrap;\n",
              "      gap: 12px;\n",
              "    }\n",
              "\n",
              "    .colab-df-convert {\n",
              "      background-color: #E8F0FE;\n",
              "      border: none;\n",
              "      border-radius: 50%;\n",
              "      cursor: pointer;\n",
              "      display: none;\n",
              "      fill: #1967D2;\n",
              "      height: 32px;\n",
              "      padding: 0 0 0 0;\n",
              "      width: 32px;\n",
              "    }\n",
              "\n",
              "    .colab-df-convert:hover {\n",
              "      background-color: #E2EBFA;\n",
              "      box-shadow: 0px 1px 2px rgba(60, 64, 67, 0.3), 0px 1px 3px 1px rgba(60, 64, 67, 0.15);\n",
              "      fill: #174EA6;\n",
              "    }\n",
              "\n",
              "    [theme=dark] .colab-df-convert {\n",
              "      background-color: #3B4455;\n",
              "      fill: #D2E3FC;\n",
              "    }\n",
              "\n",
              "    [theme=dark] .colab-df-convert:hover {\n",
              "      background-color: #434B5C;\n",
              "      box-shadow: 0px 1px 3px 1px rgba(0, 0, 0, 0.15);\n",
              "      filter: drop-shadow(0px 1px 2px rgba(0, 0, 0, 0.3));\n",
              "      fill: #FFFFFF;\n",
              "    }\n",
              "  </style>\n",
              "\n",
              "      <script>\n",
              "        const buttonEl =\n",
              "          document.querySelector('#df-1d27da80-47c2-491e-8d3b-3b618158e30e button.colab-df-convert');\n",
              "        buttonEl.style.display =\n",
              "          google.colab.kernel.accessAllowed ? 'block' : 'none';\n",
              "\n",
              "        async function convertToInteractive(key) {\n",
              "          const element = document.querySelector('#df-1d27da80-47c2-491e-8d3b-3b618158e30e');\n",
              "          const dataTable =\n",
              "            await google.colab.kernel.invokeFunction('convertToInteractive',\n",
              "                                                     [key], {});\n",
              "          if (!dataTable) return;\n",
              "\n",
              "          const docLinkHtml = 'Like what you see? Visit the ' +\n",
              "            '<a target=\"_blank\" href=https://colab.research.google.com/notebooks/data_table.ipynb>data table notebook</a>'\n",
              "            + ' to learn more about interactive tables.';\n",
              "          element.innerHTML = '';\n",
              "          dataTable['output_type'] = 'display_data';\n",
              "          await google.colab.output.renderOutput(dataTable, element);\n",
              "          const docLink = document.createElement('div');\n",
              "          docLink.innerHTML = docLinkHtml;\n",
              "          element.appendChild(docLink);\n",
              "        }\n",
              "      </script>\n",
              "    </div>\n",
              "  </div>\n",
              "  "
            ]
          },
          "metadata": {},
          "execution_count": 3
        }
      ]
    },
    {
      "cell_type": "code",
      "source": [
        "Notas.info()"
      ],
      "metadata": {
        "colab": {
          "base_uri": "https://localhost:8080/"
        },
        "id": "rDuTBbc6XeU-",
        "outputId": "e126a418-aec8-41cb-9da3-0e6ccca9dc66"
      },
      "execution_count": 4,
      "outputs": [
        {
          "output_type": "stream",
          "name": "stdout",
          "text": [
            "<class 'pandas.core.frame.DataFrame'>\n",
            "RangeIndex: 51 entries, 0 to 50\n",
            "Data columns (total 4 columns):\n",
            " #   Column        Non-Null Count  Dtype  \n",
            "---  ------        --------------  -----  \n",
            " 0   Eng.Civil     51 non-null     float64\n",
            " 1   Eng.Mecanica  51 non-null     float64\n",
            " 2   Eng.Producao  51 non-null     float64\n",
            " 3   C.Comp        51 non-null     float64\n",
            "dtypes: float64(4)\n",
            "memory usage: 1.7 KB\n"
          ]
        }
      ]
    },
    {
      "cell_type": "code",
      "source": [
        "Notas.describe()"
      ],
      "metadata": {
        "colab": {
          "base_uri": "https://localhost:8080/",
          "height": 300
        },
        "id": "sReuSKc9XeS4",
        "outputId": "6d13d06b-098b-4a4a-8014-95ddb7373198"
      },
      "execution_count": 5,
      "outputs": [
        {
          "output_type": "execute_result",
          "data": {
            "text/plain": [
              "       Eng.Civil  Eng.Mecanica  Eng.Producao     C.Comp\n",
              "count  51.000000     51.000000     51.000000  51.000000\n",
              "mean    5.484314      4.641176      5.050980   4.462745\n",
              "std     3.880432      3.138036      3.024326   3.695942\n",
              "min     0.000000      0.000000      0.000000   0.000000\n",
              "25%     0.700000      1.950000      2.000000   1.200000\n",
              "50%     7.500000      3.800000      5.700000   3.400000\n",
              "75%     9.000000      7.650000      7.750000   8.350000\n",
              "max    10.000000      9.600000      9.300000   9.600000"
            ],
            "text/html": [
              "\n",
              "  <div id=\"df-89ace80c-e086-4cae-a7d5-cd7b66a3e96b\">\n",
              "    <div class=\"colab-df-container\">\n",
              "      <div>\n",
              "<style scoped>\n",
              "    .dataframe tbody tr th:only-of-type {\n",
              "        vertical-align: middle;\n",
              "    }\n",
              "\n",
              "    .dataframe tbody tr th {\n",
              "        vertical-align: top;\n",
              "    }\n",
              "\n",
              "    .dataframe thead th {\n",
              "        text-align: right;\n",
              "    }\n",
              "</style>\n",
              "<table border=\"1\" class=\"dataframe\">\n",
              "  <thead>\n",
              "    <tr style=\"text-align: right;\">\n",
              "      <th></th>\n",
              "      <th>Eng.Civil</th>\n",
              "      <th>Eng.Mecanica</th>\n",
              "      <th>Eng.Producao</th>\n",
              "      <th>C.Comp</th>\n",
              "    </tr>\n",
              "  </thead>\n",
              "  <tbody>\n",
              "    <tr>\n",
              "      <th>count</th>\n",
              "      <td>51.000000</td>\n",
              "      <td>51.000000</td>\n",
              "      <td>51.000000</td>\n",
              "      <td>51.000000</td>\n",
              "    </tr>\n",
              "    <tr>\n",
              "      <th>mean</th>\n",
              "      <td>5.484314</td>\n",
              "      <td>4.641176</td>\n",
              "      <td>5.050980</td>\n",
              "      <td>4.462745</td>\n",
              "    </tr>\n",
              "    <tr>\n",
              "      <th>std</th>\n",
              "      <td>3.880432</td>\n",
              "      <td>3.138036</td>\n",
              "      <td>3.024326</td>\n",
              "      <td>3.695942</td>\n",
              "    </tr>\n",
              "    <tr>\n",
              "      <th>min</th>\n",
              "      <td>0.000000</td>\n",
              "      <td>0.000000</td>\n",
              "      <td>0.000000</td>\n",
              "      <td>0.000000</td>\n",
              "    </tr>\n",
              "    <tr>\n",
              "      <th>25%</th>\n",
              "      <td>0.700000</td>\n",
              "      <td>1.950000</td>\n",
              "      <td>2.000000</td>\n",
              "      <td>1.200000</td>\n",
              "    </tr>\n",
              "    <tr>\n",
              "      <th>50%</th>\n",
              "      <td>7.500000</td>\n",
              "      <td>3.800000</td>\n",
              "      <td>5.700000</td>\n",
              "      <td>3.400000</td>\n",
              "    </tr>\n",
              "    <tr>\n",
              "      <th>75%</th>\n",
              "      <td>9.000000</td>\n",
              "      <td>7.650000</td>\n",
              "      <td>7.750000</td>\n",
              "      <td>8.350000</td>\n",
              "    </tr>\n",
              "    <tr>\n",
              "      <th>max</th>\n",
              "      <td>10.000000</td>\n",
              "      <td>9.600000</td>\n",
              "      <td>9.300000</td>\n",
              "      <td>9.600000</td>\n",
              "    </tr>\n",
              "  </tbody>\n",
              "</table>\n",
              "</div>\n",
              "      <button class=\"colab-df-convert\" onclick=\"convertToInteractive('df-89ace80c-e086-4cae-a7d5-cd7b66a3e96b')\"\n",
              "              title=\"Convert this dataframe to an interactive table.\"\n",
              "              style=\"display:none;\">\n",
              "        \n",
              "  <svg xmlns=\"http://www.w3.org/2000/svg\" height=\"24px\"viewBox=\"0 0 24 24\"\n",
              "       width=\"24px\">\n",
              "    <path d=\"M0 0h24v24H0V0z\" fill=\"none\"/>\n",
              "    <path d=\"M18.56 5.44l.94 2.06.94-2.06 2.06-.94-2.06-.94-.94-2.06-.94 2.06-2.06.94zm-11 1L8.5 8.5l.94-2.06 2.06-.94-2.06-.94L8.5 2.5l-.94 2.06-2.06.94zm10 10l.94 2.06.94-2.06 2.06-.94-2.06-.94-.94-2.06-.94 2.06-2.06.94z\"/><path d=\"M17.41 7.96l-1.37-1.37c-.4-.4-.92-.59-1.43-.59-.52 0-1.04.2-1.43.59L10.3 9.45l-7.72 7.72c-.78.78-.78 2.05 0 2.83L4 21.41c.39.39.9.59 1.41.59.51 0 1.02-.2 1.41-.59l7.78-7.78 2.81-2.81c.8-.78.8-2.07 0-2.86zM5.41 20L4 18.59l7.72-7.72 1.47 1.35L5.41 20z\"/>\n",
              "  </svg>\n",
              "      </button>\n",
              "      \n",
              "  <style>\n",
              "    .colab-df-container {\n",
              "      display:flex;\n",
              "      flex-wrap:wrap;\n",
              "      gap: 12px;\n",
              "    }\n",
              "\n",
              "    .colab-df-convert {\n",
              "      background-color: #E8F0FE;\n",
              "      border: none;\n",
              "      border-radius: 50%;\n",
              "      cursor: pointer;\n",
              "      display: none;\n",
              "      fill: #1967D2;\n",
              "      height: 32px;\n",
              "      padding: 0 0 0 0;\n",
              "      width: 32px;\n",
              "    }\n",
              "\n",
              "    .colab-df-convert:hover {\n",
              "      background-color: #E2EBFA;\n",
              "      box-shadow: 0px 1px 2px rgba(60, 64, 67, 0.3), 0px 1px 3px 1px rgba(60, 64, 67, 0.15);\n",
              "      fill: #174EA6;\n",
              "    }\n",
              "\n",
              "    [theme=dark] .colab-df-convert {\n",
              "      background-color: #3B4455;\n",
              "      fill: #D2E3FC;\n",
              "    }\n",
              "\n",
              "    [theme=dark] .colab-df-convert:hover {\n",
              "      background-color: #434B5C;\n",
              "      box-shadow: 0px 1px 3px 1px rgba(0, 0, 0, 0.15);\n",
              "      filter: drop-shadow(0px 1px 2px rgba(0, 0, 0, 0.3));\n",
              "      fill: #FFFFFF;\n",
              "    }\n",
              "  </style>\n",
              "\n",
              "      <script>\n",
              "        const buttonEl =\n",
              "          document.querySelector('#df-89ace80c-e086-4cae-a7d5-cd7b66a3e96b button.colab-df-convert');\n",
              "        buttonEl.style.display =\n",
              "          google.colab.kernel.accessAllowed ? 'block' : 'none';\n",
              "\n",
              "        async function convertToInteractive(key) {\n",
              "          const element = document.querySelector('#df-89ace80c-e086-4cae-a7d5-cd7b66a3e96b');\n",
              "          const dataTable =\n",
              "            await google.colab.kernel.invokeFunction('convertToInteractive',\n",
              "                                                     [key], {});\n",
              "          if (!dataTable) return;\n",
              "\n",
              "          const docLinkHtml = 'Like what you see? Visit the ' +\n",
              "            '<a target=\"_blank\" href=https://colab.research.google.com/notebooks/data_table.ipynb>data table notebook</a>'\n",
              "            + ' to learn more about interactive tables.';\n",
              "          element.innerHTML = '';\n",
              "          dataTable['output_type'] = 'display_data';\n",
              "          await google.colab.output.renderOutput(dataTable, element);\n",
              "          const docLink = document.createElement('div');\n",
              "          docLink.innerHTML = docLinkHtml;\n",
              "          element.appendChild(docLink);\n",
              "        }\n",
              "      </script>\n",
              "    </div>\n",
              "  </div>\n",
              "  "
            ]
          },
          "metadata": {},
          "execution_count": 5
        }
      ]
    },
    {
      "cell_type": "markdown",
      "source": [
        "### Diagrama da Caixa(Boxplot) das Notas\n"
      ],
      "metadata": {
        "id": "7rgpLuCtmGL6"
      }
    },
    {
      "cell_type": "code",
      "source": [
        "fig = px.box(data_frame = Notas,y= [\"Eng.Civil\",\"Eng.Mecanica\",\"Eng.Producao\",\"C.Comp\"],points=\"all\",\n",
        "             labels ={'value':'Notas','variable':'Cursos'},title = \"Nota por curso na disciplina de Probabilidade e Estatística em 2021.2\")\n",
        "fig.show()"
      ],
      "metadata": {
        "colab": {
          "base_uri": "https://localhost:8080/",
          "height": 542
        },
        "id": "WiW_jgStgFbI",
        "outputId": "d1f1fa9b-dcdb-425b-ad20-07b9460a25a2"
      },
      "execution_count": 21,
      "outputs": [
        {
          "output_type": "display_data",
          "data": {
            "text/html": [
              "<html>\n",
              "<head><meta charset=\"utf-8\" /></head>\n",
              "<body>\n",
              "    <div>            <script src=\"https://cdnjs.cloudflare.com/ajax/libs/mathjax/2.7.5/MathJax.js?config=TeX-AMS-MML_SVG\"></script><script type=\"text/javascript\">if (window.MathJax) {MathJax.Hub.Config({SVG: {font: \"STIX-Web\"}});}</script>                <script type=\"text/javascript\">window.PlotlyConfig = {MathJaxConfig: 'local'};</script>\n",
              "        <script src=\"https://cdn.plot.ly/plotly-2.8.3.min.js\"></script>                <div id=\"2c7983e6-6762-4e91-9b29-78a8357520a5\" class=\"plotly-graph-div\" style=\"height:525px; width:100%;\"></div>            <script type=\"text/javascript\">                                    window.PLOTLYENV=window.PLOTLYENV || {};                                    if (document.getElementById(\"2c7983e6-6762-4e91-9b29-78a8357520a5\")) {                    Plotly.newPlot(                        \"2c7983e6-6762-4e91-9b29-78a8357520a5\",                        [{\"alignmentgroup\":\"True\",\"boxpoints\":\"all\",\"hovertemplate\":\"Cursos=%{x}<br>Notas=%{y}<extra></extra>\",\"legendgroup\":\"\",\"marker\":{\"color\":\"#636efa\"},\"name\":\"\",\"notched\":false,\"offsetgroup\":\"\",\"orientation\":\"v\",\"showlegend\":false,\"x\":[\"Eng.Civil\",\"Eng.Civil\",\"Eng.Civil\",\"Eng.Civil\",\"Eng.Civil\",\"Eng.Civil\",\"Eng.Civil\",\"Eng.Civil\",\"Eng.Civil\",\"Eng.Civil\",\"Eng.Civil\",\"Eng.Civil\",\"Eng.Civil\",\"Eng.Civil\",\"Eng.Civil\",\"Eng.Civil\",\"Eng.Civil\",\"Eng.Civil\",\"Eng.Civil\",\"Eng.Civil\",\"Eng.Civil\",\"Eng.Civil\",\"Eng.Civil\",\"Eng.Civil\",\"Eng.Civil\",\"Eng.Civil\",\"Eng.Civil\",\"Eng.Civil\",\"Eng.Civil\",\"Eng.Civil\",\"Eng.Civil\",\"Eng.Civil\",\"Eng.Civil\",\"Eng.Civil\",\"Eng.Civil\",\"Eng.Civil\",\"Eng.Civil\",\"Eng.Civil\",\"Eng.Civil\",\"Eng.Civil\",\"Eng.Civil\",\"Eng.Civil\",\"Eng.Civil\",\"Eng.Civil\",\"Eng.Civil\",\"Eng.Civil\",\"Eng.Civil\",\"Eng.Civil\",\"Eng.Civil\",\"Eng.Civil\",\"Eng.Civil\",\"Eng.Mecanica\",\"Eng.Mecanica\",\"Eng.Mecanica\",\"Eng.Mecanica\",\"Eng.Mecanica\",\"Eng.Mecanica\",\"Eng.Mecanica\",\"Eng.Mecanica\",\"Eng.Mecanica\",\"Eng.Mecanica\",\"Eng.Mecanica\",\"Eng.Mecanica\",\"Eng.Mecanica\",\"Eng.Mecanica\",\"Eng.Mecanica\",\"Eng.Mecanica\",\"Eng.Mecanica\",\"Eng.Mecanica\",\"Eng.Mecanica\",\"Eng.Mecanica\",\"Eng.Mecanica\",\"Eng.Mecanica\",\"Eng.Mecanica\",\"Eng.Mecanica\",\"Eng.Mecanica\",\"Eng.Mecanica\",\"Eng.Mecanica\",\"Eng.Mecanica\",\"Eng.Mecanica\",\"Eng.Mecanica\",\"Eng.Mecanica\",\"Eng.Mecanica\",\"Eng.Mecanica\",\"Eng.Mecanica\",\"Eng.Mecanica\",\"Eng.Mecanica\",\"Eng.Mecanica\",\"Eng.Mecanica\",\"Eng.Mecanica\",\"Eng.Mecanica\",\"Eng.Mecanica\",\"Eng.Mecanica\",\"Eng.Mecanica\",\"Eng.Mecanica\",\"Eng.Mecanica\",\"Eng.Mecanica\",\"Eng.Mecanica\",\"Eng.Mecanica\",\"Eng.Mecanica\",\"Eng.Mecanica\",\"Eng.Mecanica\",\"Eng.Producao\",\"Eng.Producao\",\"Eng.Producao\",\"Eng.Producao\",\"Eng.Producao\",\"Eng.Producao\",\"Eng.Producao\",\"Eng.Producao\",\"Eng.Producao\",\"Eng.Producao\",\"Eng.Producao\",\"Eng.Producao\",\"Eng.Producao\",\"Eng.Producao\",\"Eng.Producao\",\"Eng.Producao\",\"Eng.Producao\",\"Eng.Producao\",\"Eng.Producao\",\"Eng.Producao\",\"Eng.Producao\",\"Eng.Producao\",\"Eng.Producao\",\"Eng.Producao\",\"Eng.Producao\",\"Eng.Producao\",\"Eng.Producao\",\"Eng.Producao\",\"Eng.Producao\",\"Eng.Producao\",\"Eng.Producao\",\"Eng.Producao\",\"Eng.Producao\",\"Eng.Producao\",\"Eng.Producao\",\"Eng.Producao\",\"Eng.Producao\",\"Eng.Producao\",\"Eng.Producao\",\"Eng.Producao\",\"Eng.Producao\",\"Eng.Producao\",\"Eng.Producao\",\"Eng.Producao\",\"Eng.Producao\",\"Eng.Producao\",\"Eng.Producao\",\"Eng.Producao\",\"Eng.Producao\",\"Eng.Producao\",\"Eng.Producao\",\"C.Comp\",\"C.Comp\",\"C.Comp\",\"C.Comp\",\"C.Comp\",\"C.Comp\",\"C.Comp\",\"C.Comp\",\"C.Comp\",\"C.Comp\",\"C.Comp\",\"C.Comp\",\"C.Comp\",\"C.Comp\",\"C.Comp\",\"C.Comp\",\"C.Comp\",\"C.Comp\",\"C.Comp\",\"C.Comp\",\"C.Comp\",\"C.Comp\",\"C.Comp\",\"C.Comp\",\"C.Comp\",\"C.Comp\",\"C.Comp\",\"C.Comp\",\"C.Comp\",\"C.Comp\",\"C.Comp\",\"C.Comp\",\"C.Comp\",\"C.Comp\",\"C.Comp\",\"C.Comp\",\"C.Comp\",\"C.Comp\",\"C.Comp\",\"C.Comp\",\"C.Comp\",\"C.Comp\",\"C.Comp\",\"C.Comp\",\"C.Comp\",\"C.Comp\",\"C.Comp\",\"C.Comp\",\"C.Comp\",\"C.Comp\",\"C.Comp\"],\"x0\":\" \",\"xaxis\":\"x\",\"y\":[6.0,7.8,8.9,8.0,2.6,7.5,8.5,10.0,3.4,0.4,9.6,5.3,9.4,9.4,4.9,0.0,8.7,9.7,0.0,8.5,8.0,8.6,9.4,0.0,9.6,3.2,0.0,0.0,0.0,10.0,2.2,9.3,0.0,0.0,8.0,8.1,7.0,0.0,9.1,0.0,9.9,7.5,3.1,1.0,0.0,6.0,4.9,9.4,9.1,7.7,0.0,9.4,4.5,7.9,1.6,7.1,0.8,6.8,7.6,3.4,3.5,2.2,0.7,1.1,2.0,1.9,2.1,0.6,6.9,0.9,1.1,1.2,8.8,2.3,3.2,7.7,2.9,7.7,8.2,2.1,0.4,3.8,7.4,8.8,1.8,7.2,7.7,7.1,9.3,2.0,9.6,0.8,9.5,2.2,5.7,8.2,2.1,6.5,0.0,6.7,5.9,7.8,7.6,8.0,8.3,1.6,8.3,4.6,7.3,1.2,6.4,7.9,8.8,8.4,2.4,4.2,0.0,8.6,5.0,7.2,5.6,8.3,1.6,9.2,1.8,2.1,6.5,2.8,1.3,5.6,3.9,6.8,7.7,3.6,0.0,1.1,7.3,6.0,2.7,0.6,7.8,3.1,0.0,1.9,7.8,0.0,9.3,8.7,1.6,7.2,5.7,7.2,7.0,1.9,6.0,0.3,0.1,7.1,2.8,8.9,7.2,2.4,7.4,0.0,9.6,1.7,2.0,7.0,1.2,8.7,0.0,9.6,8.6,9.2,2.4,8.0,8.5,0.0,9.6,0.0,0.0,3.4,0.0,9.4,1.3,0.0,3.9,0.0,3.4,1.7,0.0,8.9,8.2,2.3,9.4,8.1,0.2,8.6,9.0,2.0,1.2,7.9,5.5,3.0],\"y0\":\" \",\"yaxis\":\"y\",\"type\":\"box\"}],                        {\"template\":{\"data\":{\"bar\":[{\"error_x\":{\"color\":\"#2a3f5f\"},\"error_y\":{\"color\":\"#2a3f5f\"},\"marker\":{\"line\":{\"color\":\"#E5ECF6\",\"width\":0.5},\"pattern\":{\"fillmode\":\"overlay\",\"size\":10,\"solidity\":0.2}},\"type\":\"bar\"}],\"barpolar\":[{\"marker\":{\"line\":{\"color\":\"#E5ECF6\",\"width\":0.5},\"pattern\":{\"fillmode\":\"overlay\",\"size\":10,\"solidity\":0.2}},\"type\":\"barpolar\"}],\"carpet\":[{\"aaxis\":{\"endlinecolor\":\"#2a3f5f\",\"gridcolor\":\"white\",\"linecolor\":\"white\",\"minorgridcolor\":\"white\",\"startlinecolor\":\"#2a3f5f\"},\"baxis\":{\"endlinecolor\":\"#2a3f5f\",\"gridcolor\":\"white\",\"linecolor\":\"white\",\"minorgridcolor\":\"white\",\"startlinecolor\":\"#2a3f5f\"},\"type\":\"carpet\"}],\"choropleth\":[{\"colorbar\":{\"outlinewidth\":0,\"ticks\":\"\"},\"type\":\"choropleth\"}],\"contour\":[{\"colorbar\":{\"outlinewidth\":0,\"ticks\":\"\"},\"colorscale\":[[0.0,\"#0d0887\"],[0.1111111111111111,\"#46039f\"],[0.2222222222222222,\"#7201a8\"],[0.3333333333333333,\"#9c179e\"],[0.4444444444444444,\"#bd3786\"],[0.5555555555555556,\"#d8576b\"],[0.6666666666666666,\"#ed7953\"],[0.7777777777777778,\"#fb9f3a\"],[0.8888888888888888,\"#fdca26\"],[1.0,\"#f0f921\"]],\"type\":\"contour\"}],\"contourcarpet\":[{\"colorbar\":{\"outlinewidth\":0,\"ticks\":\"\"},\"type\":\"contourcarpet\"}],\"heatmap\":[{\"colorbar\":{\"outlinewidth\":0,\"ticks\":\"\"},\"colorscale\":[[0.0,\"#0d0887\"],[0.1111111111111111,\"#46039f\"],[0.2222222222222222,\"#7201a8\"],[0.3333333333333333,\"#9c179e\"],[0.4444444444444444,\"#bd3786\"],[0.5555555555555556,\"#d8576b\"],[0.6666666666666666,\"#ed7953\"],[0.7777777777777778,\"#fb9f3a\"],[0.8888888888888888,\"#fdca26\"],[1.0,\"#f0f921\"]],\"type\":\"heatmap\"}],\"heatmapgl\":[{\"colorbar\":{\"outlinewidth\":0,\"ticks\":\"\"},\"colorscale\":[[0.0,\"#0d0887\"],[0.1111111111111111,\"#46039f\"],[0.2222222222222222,\"#7201a8\"],[0.3333333333333333,\"#9c179e\"],[0.4444444444444444,\"#bd3786\"],[0.5555555555555556,\"#d8576b\"],[0.6666666666666666,\"#ed7953\"],[0.7777777777777778,\"#fb9f3a\"],[0.8888888888888888,\"#fdca26\"],[1.0,\"#f0f921\"]],\"type\":\"heatmapgl\"}],\"histogram\":[{\"marker\":{\"pattern\":{\"fillmode\":\"overlay\",\"size\":10,\"solidity\":0.2}},\"type\":\"histogram\"}],\"histogram2d\":[{\"colorbar\":{\"outlinewidth\":0,\"ticks\":\"\"},\"colorscale\":[[0.0,\"#0d0887\"],[0.1111111111111111,\"#46039f\"],[0.2222222222222222,\"#7201a8\"],[0.3333333333333333,\"#9c179e\"],[0.4444444444444444,\"#bd3786\"],[0.5555555555555556,\"#d8576b\"],[0.6666666666666666,\"#ed7953\"],[0.7777777777777778,\"#fb9f3a\"],[0.8888888888888888,\"#fdca26\"],[1.0,\"#f0f921\"]],\"type\":\"histogram2d\"}],\"histogram2dcontour\":[{\"colorbar\":{\"outlinewidth\":0,\"ticks\":\"\"},\"colorscale\":[[0.0,\"#0d0887\"],[0.1111111111111111,\"#46039f\"],[0.2222222222222222,\"#7201a8\"],[0.3333333333333333,\"#9c179e\"],[0.4444444444444444,\"#bd3786\"],[0.5555555555555556,\"#d8576b\"],[0.6666666666666666,\"#ed7953\"],[0.7777777777777778,\"#fb9f3a\"],[0.8888888888888888,\"#fdca26\"],[1.0,\"#f0f921\"]],\"type\":\"histogram2dcontour\"}],\"mesh3d\":[{\"colorbar\":{\"outlinewidth\":0,\"ticks\":\"\"},\"type\":\"mesh3d\"}],\"parcoords\":[{\"line\":{\"colorbar\":{\"outlinewidth\":0,\"ticks\":\"\"}},\"type\":\"parcoords\"}],\"pie\":[{\"automargin\":true,\"type\":\"pie\"}],\"scatter\":[{\"marker\":{\"colorbar\":{\"outlinewidth\":0,\"ticks\":\"\"}},\"type\":\"scatter\"}],\"scatter3d\":[{\"line\":{\"colorbar\":{\"outlinewidth\":0,\"ticks\":\"\"}},\"marker\":{\"colorbar\":{\"outlinewidth\":0,\"ticks\":\"\"}},\"type\":\"scatter3d\"}],\"scattercarpet\":[{\"marker\":{\"colorbar\":{\"outlinewidth\":0,\"ticks\":\"\"}},\"type\":\"scattercarpet\"}],\"scattergeo\":[{\"marker\":{\"colorbar\":{\"outlinewidth\":0,\"ticks\":\"\"}},\"type\":\"scattergeo\"}],\"scattergl\":[{\"marker\":{\"colorbar\":{\"outlinewidth\":0,\"ticks\":\"\"}},\"type\":\"scattergl\"}],\"scattermapbox\":[{\"marker\":{\"colorbar\":{\"outlinewidth\":0,\"ticks\":\"\"}},\"type\":\"scattermapbox\"}],\"scatterpolar\":[{\"marker\":{\"colorbar\":{\"outlinewidth\":0,\"ticks\":\"\"}},\"type\":\"scatterpolar\"}],\"scatterpolargl\":[{\"marker\":{\"colorbar\":{\"outlinewidth\":0,\"ticks\":\"\"}},\"type\":\"scatterpolargl\"}],\"scatterternary\":[{\"marker\":{\"colorbar\":{\"outlinewidth\":0,\"ticks\":\"\"}},\"type\":\"scatterternary\"}],\"surface\":[{\"colorbar\":{\"outlinewidth\":0,\"ticks\":\"\"},\"colorscale\":[[0.0,\"#0d0887\"],[0.1111111111111111,\"#46039f\"],[0.2222222222222222,\"#7201a8\"],[0.3333333333333333,\"#9c179e\"],[0.4444444444444444,\"#bd3786\"],[0.5555555555555556,\"#d8576b\"],[0.6666666666666666,\"#ed7953\"],[0.7777777777777778,\"#fb9f3a\"],[0.8888888888888888,\"#fdca26\"],[1.0,\"#f0f921\"]],\"type\":\"surface\"}],\"table\":[{\"cells\":{\"fill\":{\"color\":\"#EBF0F8\"},\"line\":{\"color\":\"white\"}},\"header\":{\"fill\":{\"color\":\"#C8D4E3\"},\"line\":{\"color\":\"white\"}},\"type\":\"table\"}]},\"layout\":{\"annotationdefaults\":{\"arrowcolor\":\"#2a3f5f\",\"arrowhead\":0,\"arrowwidth\":1},\"autotypenumbers\":\"strict\",\"coloraxis\":{\"colorbar\":{\"outlinewidth\":0,\"ticks\":\"\"}},\"colorscale\":{\"diverging\":[[0,\"#8e0152\"],[0.1,\"#c51b7d\"],[0.2,\"#de77ae\"],[0.3,\"#f1b6da\"],[0.4,\"#fde0ef\"],[0.5,\"#f7f7f7\"],[0.6,\"#e6f5d0\"],[0.7,\"#b8e186\"],[0.8,\"#7fbc41\"],[0.9,\"#4d9221\"],[1,\"#276419\"]],\"sequential\":[[0.0,\"#0d0887\"],[0.1111111111111111,\"#46039f\"],[0.2222222222222222,\"#7201a8\"],[0.3333333333333333,\"#9c179e\"],[0.4444444444444444,\"#bd3786\"],[0.5555555555555556,\"#d8576b\"],[0.6666666666666666,\"#ed7953\"],[0.7777777777777778,\"#fb9f3a\"],[0.8888888888888888,\"#fdca26\"],[1.0,\"#f0f921\"]],\"sequentialminus\":[[0.0,\"#0d0887\"],[0.1111111111111111,\"#46039f\"],[0.2222222222222222,\"#7201a8\"],[0.3333333333333333,\"#9c179e\"],[0.4444444444444444,\"#bd3786\"],[0.5555555555555556,\"#d8576b\"],[0.6666666666666666,\"#ed7953\"],[0.7777777777777778,\"#fb9f3a\"],[0.8888888888888888,\"#fdca26\"],[1.0,\"#f0f921\"]]},\"colorway\":[\"#636efa\",\"#EF553B\",\"#00cc96\",\"#ab63fa\",\"#FFA15A\",\"#19d3f3\",\"#FF6692\",\"#B6E880\",\"#FF97FF\",\"#FECB52\"],\"font\":{\"color\":\"#2a3f5f\"},\"geo\":{\"bgcolor\":\"white\",\"lakecolor\":\"white\",\"landcolor\":\"#E5ECF6\",\"showlakes\":true,\"showland\":true,\"subunitcolor\":\"white\"},\"hoverlabel\":{\"align\":\"left\"},\"hovermode\":\"closest\",\"mapbox\":{\"style\":\"light\"},\"paper_bgcolor\":\"white\",\"plot_bgcolor\":\"#E5ECF6\",\"polar\":{\"angularaxis\":{\"gridcolor\":\"white\",\"linecolor\":\"white\",\"ticks\":\"\"},\"bgcolor\":\"#E5ECF6\",\"radialaxis\":{\"gridcolor\":\"white\",\"linecolor\":\"white\",\"ticks\":\"\"}},\"scene\":{\"xaxis\":{\"backgroundcolor\":\"#E5ECF6\",\"gridcolor\":\"white\",\"gridwidth\":2,\"linecolor\":\"white\",\"showbackground\":true,\"ticks\":\"\",\"zerolinecolor\":\"white\"},\"yaxis\":{\"backgroundcolor\":\"#E5ECF6\",\"gridcolor\":\"white\",\"gridwidth\":2,\"linecolor\":\"white\",\"showbackground\":true,\"ticks\":\"\",\"zerolinecolor\":\"white\"},\"zaxis\":{\"backgroundcolor\":\"#E5ECF6\",\"gridcolor\":\"white\",\"gridwidth\":2,\"linecolor\":\"white\",\"showbackground\":true,\"ticks\":\"\",\"zerolinecolor\":\"white\"}},\"shapedefaults\":{\"line\":{\"color\":\"#2a3f5f\"}},\"ternary\":{\"aaxis\":{\"gridcolor\":\"white\",\"linecolor\":\"white\",\"ticks\":\"\"},\"baxis\":{\"gridcolor\":\"white\",\"linecolor\":\"white\",\"ticks\":\"\"},\"bgcolor\":\"#E5ECF6\",\"caxis\":{\"gridcolor\":\"white\",\"linecolor\":\"white\",\"ticks\":\"\"}},\"title\":{\"x\":0.05},\"xaxis\":{\"automargin\":true,\"gridcolor\":\"white\",\"linecolor\":\"white\",\"ticks\":\"\",\"title\":{\"standoff\":15},\"zerolinecolor\":\"white\",\"zerolinewidth\":2},\"yaxis\":{\"automargin\":true,\"gridcolor\":\"white\",\"linecolor\":\"white\",\"ticks\":\"\",\"title\":{\"standoff\":15},\"zerolinecolor\":\"white\",\"zerolinewidth\":2}}},\"xaxis\":{\"anchor\":\"y\",\"domain\":[0.0,1.0],\"title\":{\"text\":\"Cursos\"}},\"yaxis\":{\"anchor\":\"x\",\"domain\":[0.0,1.0],\"title\":{\"text\":\"Notas\"}},\"legend\":{\"tracegroupgap\":0},\"title\":{\"text\":\"Nota por curso na disciplina de Probabilidade e Estat\\u00edstica em 2021.2\"},\"boxmode\":\"group\"},                        {\"responsive\": true}                    ).then(function(){\n",
              "                            \n",
              "var gd = document.getElementById('2c7983e6-6762-4e91-9b29-78a8357520a5');\n",
              "var x = new MutationObserver(function (mutations, observer) {{\n",
              "        var display = window.getComputedStyle(gd).display;\n",
              "        if (!display || display === 'none') {{\n",
              "            console.log([gd, 'removed!']);\n",
              "            Plotly.purge(gd);\n",
              "            observer.disconnect();\n",
              "        }}\n",
              "}});\n",
              "\n",
              "// Listen for the removal of the full notebook cells\n",
              "var notebookContainer = gd.closest('#notebook-container');\n",
              "if (notebookContainer) {{\n",
              "    x.observe(notebookContainer, {childList: true});\n",
              "}}\n",
              "\n",
              "// Listen for the clearing of the current output cell\n",
              "var outputEl = gd.closest('.output');\n",
              "if (outputEl) {{\n",
              "    x.observe(outputEl, {childList: true});\n",
              "}}\n",
              "\n",
              "                        })                };                            </script>        </div>\n",
              "</body>\n",
              "</html>"
            ]
          },
          "metadata": {}
        }
      ]
    },
    {
      "cell_type": "markdown",
      "source": [
        "## Referências\n",
        "\n",
        "\n",
        "1.  [Documentação para o boxplot](https://plotly.com/python-api-reference/generated/plotly.express.box.html)\n",
        "2.  [Exemplos de plotagem do boxplot](https://plotly.com/python/box-plots/)\n",
        "3.  [Documentação para o Pandas](https://pandas.pydata.org/docs/)\n",
        " \n"
      ],
      "metadata": {
        "id": "ueyBXM_bt6m0"
      }
    }
  ]
}